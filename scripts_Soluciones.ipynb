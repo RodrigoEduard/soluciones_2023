{
  "nbformat": 4,
  "nbformat_minor": 0,
  "metadata": {
    "colab": {
      "provenance": [],
      "authorship_tag": "ABX9TyNNJPp3nOb+Qkmf51fyOAig",
      "include_colab_link": true
    },
    "kernelspec": {
      "name": "python3",
      "display_name": "Python 3"
    },
    "language_info": {
      "name": "python"
    }
  },
  "cells": [
    {
      "cell_type": "markdown",
      "metadata": {
        "id": "view-in-github",
        "colab_type": "text"
      },
      "source": [
        "<a href=\"https://colab.research.google.com/github/RodrigoEduard/soluciones_2023/blob/main/scripts_Soluciones.ipynb\" target=\"_parent\"><img src=\"https://colab.research.google.com/assets/colab-badge.svg\" alt=\"Open In Colab\"/></a>"
      ]
    },
    {
      "cell_type": "markdown",
      "source": [
        "\n",
        "> Transformación Nº1"
      ],
      "metadata": {
        "id": "WSkfbUyMmXfq"
      }
    },
    {
      "cell_type": "code",
      "execution_count": null,
      "metadata": {
        "id": "EQNsysC4mQey"
      },
      "outputs": [],
      "source": [
        "# 'dataset' contiene los datos de entrada para este script\n",
        "import pandas as pd\n",
        "\n",
        "proveedor_2 = dataset\n",
        "\n",
        "# filtro el DataFrame para eliminar filas donde 'estado' es 'caducado'\n",
        "proveedor_2 = proveedor_2[proveedor_2['estado'] != 'caducado']\n",
        "\n",
        "# DataFrame resultante\n",
        "proveedor_2"
      ]
    }
  ]
}